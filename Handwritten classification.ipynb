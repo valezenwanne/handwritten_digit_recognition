{
 "cells": [
  {
   "cell_type": "markdown",
   "id": "d333e647",
   "metadata": {},
   "source": [
    "# Handwritten Digit Classification Project\n",
    "- By Valentine Ezenwanne"
   ]
  },
  {
   "cell_type": "markdown",
   "id": "9c36d960",
   "metadata": {},
   "source": [
    "## Import the libraries"
   ]
  },
  {
   "cell_type": "code",
   "execution_count": 1,
   "id": "db1ee803",
   "metadata": {},
   "outputs": [],
   "source": [
    "#import the libraries\n",
    "import os\n",
    "import cv2\n",
    "import tensorflow as tf\n",
    "import numpy as np\n",
    "import matplotlib.pyplot as plt"
   ]
  },
  {
   "cell_type": "code",
   "execution_count": 2,
   "id": "2c1bfb6e",
   "metadata": {},
   "outputs": [],
   "source": [
    "#load the dataset mnist\n",
    "mnist = tf.keras.datasets.mnist"
   ]
  },
  {
   "cell_type": "code",
   "execution_count": 3,
   "id": "c06b7129",
   "metadata": {},
   "outputs": [],
   "source": [
    "#split the dataset\n",
    "(X_train, y_train), (X_test, y_test) = mnist.load_data()"
   ]
  },
  {
   "cell_type": "code",
   "execution_count": 5,
   "id": "270a15e4",
   "metadata": {},
   "outputs": [
    {
     "data": {
      "text/plain": [
       "(60000, 28, 28)"
      ]
     },
     "execution_count": 5,
     "metadata": {},
     "output_type": "execute_result"
    }
   ],
   "source": [
    "#check the shape of the training set\n",
    "X_train.shape"
   ]
  },
  {
   "cell_type": "code",
   "execution_count": 6,
   "id": "af440bf5",
   "metadata": {},
   "outputs": [
    {
     "data": {
      "text/plain": [
       "(10000, 28, 28)"
      ]
     },
     "execution_count": 6,
     "metadata": {},
     "output_type": "execute_result"
    }
   ],
   "source": [
    "#check the shape of the test set\n",
    "X_test.shape"
   ]
  },
  {
   "cell_type": "code",
   "execution_count": 7,
   "id": "12119404",
   "metadata": {},
   "outputs": [
    {
     "data": {
      "text/plain": [
       "(60000,)"
      ]
     },
     "execution_count": 7,
     "metadata": {},
     "output_type": "execute_result"
    }
   ],
   "source": [
    "y_train.shape"
   ]
  },
  {
   "cell_type": "code",
   "execution_count": 8,
   "id": "79741b5b",
   "metadata": {},
   "outputs": [
    {
     "data": {
      "text/plain": [
       "(10000,)"
      ]
     },
     "execution_count": 8,
     "metadata": {},
     "output_type": "execute_result"
    }
   ],
   "source": [
    "y_test.shape"
   ]
  },
  {
   "cell_type": "markdown",
   "id": "19381a14",
   "metadata": {},
   "source": [
    "### Displaying the image of training set"
   ]
  },
  {
   "cell_type": "code",
   "execution_count": 10,
   "id": "bf14e7fd",
   "metadata": {},
   "outputs": [
    {
     "data": {
      "text/plain": [
       "<matplotlib.image.AxesImage at 0x156902ca050>"
      ]
     },
     "execution_count": 10,
     "metadata": {},
     "output_type": "execute_result"
    },
    {
     "data": {
      "image/png": "[encoded data removed]",
      "text/plain": [
       "<Figure size 640x480 with 1 Axes>"
      ]
     },
     "metadata": {},
     "output_type": "display_data"
    }
   ],
   "source": [
    "plt.imshow(X_train[0])"
   ]
  },
  {
   "cell_type": "code",
   "execution_count": 11,
   "id": "b1e5d756",
   "metadata": {},
   "outputs": [
    {
     "data": {
      "text/plain": [
       "<matplotlib.image.AxesImage at 0x15694052710>"
      ]
     },
     "execution_count": 11,
     "metadata": {},
     "output_type": "execute_result"
    },
    {
     "data": {
      "image/png": "[encoded data removed]",
      "text/plain": [
       "<Figure size 640x480 with 1 Axes>"
      ]
     },
     "metadata": {},
     "output_type": "display_data"
    }
   ],
   "source": [
    "plt.imshow(X_train[8])"
   ]
  },
  {
   "cell_type": "code",
   "execution_count": 12,
   "id": "e235aecd",
   "metadata": {
    "scrolled": false
   },
   "outputs": [
    {
     "data": {
      "text/plain": [
       "<matplotlib.image.AxesImage at 0x156940e3be0>"
      ]
     },
     "execution_count": 12,
     "metadata": {},
     "output_type": "execute_result"
    },
    {
     "data": {
      "image/png": "[encoded data removed]",
      "text/plain": [
       "<Figure size 640x480 with 1 Axes>"
      ]
     },
     "metadata": {},
     "output_type": "display_data"
    }
   ],
   "source": [
    "plt.imshow(X_train[3000])"
   ]
  },
  {
   "cell_type": "markdown",
   "id": "cb6602ef",
   "metadata": {},
   "source": [
    "## Normalize the dataset"
   ]
  },
  {
   "cell_type": "code",
   "execution_count": 13,
   "id": "b24e1a69",
   "metadata": {},
   "outputs": [],
   "source": [
    "#normalize the X_train and X_test\n",
    "X_train = tf.keras.utils.normalize(X_train, axis=1)\n",
    "X_test = tf.keras.utils.normalize(X_test, axis=1)"
   ]
  },
  {
   "cell_type": "markdown",
   "id": "6831afa9",
   "metadata": {},
   "source": [
    "## Create the model"
   ]
  },
  {
   "cell_type": "code",
   "execution_count": 14,
   "id": "3340f284",
   "metadata": {},
   "outputs": [],
   "source": [
    "#create the model\n",
    "model = tf.keras.models.Sequential()"
   ]
  },
  {
   "cell_type": "markdown",
   "id": "bb206a47",
   "metadata": {},
   "source": [
    "## Add Layers to the model"
   ]
  },
  {
   "cell_type": "code",
   "execution_count": 15,
   "id": "2156b9f3",
   "metadata": {},
   "outputs": [],
   "source": [
    "#Add layers to the model\n",
    "model.add(tf.keras.layers.Flatten(input_shape=(28,28)))\n",
    "model.add(tf.keras.layers.Dense(128, activation='relu'))\n",
    "model.add(tf.keras.layers.Dense(128, activation='relu'))\n",
    "model.add(tf.keras.layers.Dense(128, activation='relu'))\n",
    "model.add(tf.keras.layers.Dense(10, activation='softmax'))"
   ]
  },
  {
   "cell_type": "markdown",
   "id": "774e9609",
   "metadata": {},
   "source": [
    "## Compile the model"
   ]
  },
  {
   "cell_type": "code",
   "execution_count": 16,
   "id": "36befdf6",
   "metadata": {},
   "outputs": [],
   "source": [
    "#compile the model\n",
    "model.compile(\n",
    "    optimizer='adam',\n",
    "    loss='sparse_categorical_crossentropy',\n",
    "    metrics=['accuracy']\n",
    ")"
   ]
  },
  {
   "cell_type": "markdown",
   "id": "f2b49417",
   "metadata": {},
   "source": [
    "## Fit the Model"
   ]
  },
  {
   "cell_type": "code",
   "execution_count": 17,
   "id": "15f25041",
   "metadata": {
    "scrolled": false
   },
   "outputs": [
    {
     "name": "stdout",
     "output_type": "stream",
     "text": [
      "Epoch 1/100\n",
      "6000/6000 [==============================] - 52s 5ms/step - loss: 0.2228 - accuracy: 0.9317\n",
      "Epoch 2/100\n",
      "6000/6000 [==============================] - 33s 5ms/step - loss: 0.1024 - accuracy: 0.9680\n",
      "Epoch 3/100\n",
      "6000/6000 [==============================] - 31s 5ms/step - loss: 0.0763 - accuracy: 0.9763\n",
      "Epoch 4/100\n",
      "6000/6000 [==============================] - 34s 6ms/step - loss: 0.0597 - accuracy: 0.9819\n",
      "Epoch 5/100\n",
      "6000/6000 [==============================] - 42s 7ms/step - loss: 0.0491 - accuracy: 0.9844\n",
      "Epoch 6/100\n",
      "6000/6000 [==============================] - 32s 5ms/step - loss: 0.0405 - accuracy: 0.9870\n",
      "Epoch 7/100\n",
      "6000/6000 [==============================] - 33s 5ms/step - loss: 0.0355 - accuracy: 0.9888\n",
      "Epoch 8/100\n",
      "6000/6000 [==============================] - 31s 5ms/step - loss: 0.0333 - accuracy: 0.9900\n",
      "Epoch 9/100\n",
      "6000/6000 [==============================] - 33s 6ms/step - loss: 0.0298 - accuracy: 0.9912\n",
      "Epoch 10/100\n",
      "6000/6000 [==============================] - 31s 5ms/step - loss: 0.0258 - accuracy: 0.9921\n",
      "Epoch 11/100\n",
      "6000/6000 [==============================] - 33s 6ms/step - loss: 0.0258 - accuracy: 0.9922\n",
      "Epoch 12/100\n",
      "6000/6000 [==============================] - 31s 5ms/step - loss: 0.0244 - accuracy: 0.9926\n",
      "Epoch 13/100\n",
      "6000/6000 [==============================] - 34s 6ms/step - loss: 0.0224 - accuracy: 0.9934\n",
      "Epoch 14/100\n",
      "6000/6000 [==============================] - 31s 5ms/step - loss: 0.0221 - accuracy: 0.9936\n",
      "Epoch 15/100\n",
      "6000/6000 [==============================] - 34s 6ms/step - loss: 0.0205 - accuracy: 0.9943\n",
      "Epoch 16/100\n",
      "6000/6000 [==============================] - 31s 5ms/step - loss: 0.0206 - accuracy: 0.9944\n",
      "Epoch 17/100\n",
      "6000/6000 [==============================] - 34s 6ms/step - loss: 0.0170 - accuracy: 0.9952\n",
      "Epoch 18/100\n",
      "6000/6000 [==============================] - 32s 5ms/step - loss: 0.0184 - accuracy: 0.9952\n",
      "Epoch 19/100\n",
      "6000/6000 [==============================] - 33s 6ms/step - loss: 0.0180 - accuracy: 0.9952\n",
      "Epoch 20/100\n",
      "6000/6000 [==============================] - 34s 6ms/step - loss: 0.0158 - accuracy: 0.9957\n",
      "Epoch 21/100\n",
      "6000/6000 [==============================] - 32s 5ms/step - loss: 0.0179 - accuracy: 0.9956\n",
      "Epoch 22/100\n",
      "6000/6000 [==============================] - 35s 6ms/step - loss: 0.0153 - accuracy: 0.9961\n",
      "Epoch 23/100\n",
      "6000/6000 [==============================] - 32s 5ms/step - loss: 0.0152 - accuracy: 0.9963\n",
      "Epoch 24/100\n",
      "6000/6000 [==============================] - 35s 6ms/step - loss: 0.0158 - accuracy: 0.9964\n",
      "Epoch 25/100\n",
      "6000/6000 [==============================] - 32s 5ms/step - loss: 0.0135 - accuracy: 0.9966\n",
      "Epoch 26/100\n",
      "6000/6000 [==============================] - 35s 6ms/step - loss: 0.0161 - accuracy: 0.9961\n",
      "Epoch 27/100\n",
      "6000/6000 [==============================] - 33s 5ms/step - loss: 0.0149 - accuracy: 0.9966\n",
      "Epoch 28/100\n",
      "6000/6000 [==============================] - 34s 6ms/step - loss: 0.0148 - accuracy: 0.9966\n",
      "Epoch 29/100\n",
      "6000/6000 [==============================] - 36s 6ms/step - loss: 0.0158 - accuracy: 0.9965\n",
      "Epoch 30/100\n",
      "6000/6000 [==============================] - 33s 6ms/step - loss: 0.0134 - accuracy: 0.9969\n",
      "Epoch 31/100\n",
      "6000/6000 [==============================] - 34s 6ms/step - loss: 0.0132 - accuracy: 0.9969\n",
      "Epoch 32/100\n",
      "6000/6000 [==============================] - 31s 5ms/step - loss: 0.0165 - accuracy: 0.9967\n",
      "Epoch 33/100\n",
      "6000/6000 [==============================] - 34s 6ms/step - loss: 0.0130 - accuracy: 0.9969\n",
      "Epoch 34/100\n",
      "6000/6000 [==============================] - 31s 5ms/step - loss: 0.0147 - accuracy: 0.9970\n",
      "Epoch 35/100\n",
      "6000/6000 [==============================] - 33s 6ms/step - loss: 0.0128 - accuracy: 0.9975\n",
      "Epoch 36/100\n",
      "6000/6000 [==============================] - 33s 5ms/step - loss: 0.0116 - accuracy: 0.9975\n",
      "Epoch 37/100\n",
      "6000/6000 [==============================] - 33s 6ms/step - loss: 0.0169 - accuracy: 0.9968\n",
      "Epoch 38/100\n",
      "6000/6000 [==============================] - 33s 6ms/step - loss: 0.0127 - accuracy: 0.9974\n",
      "Epoch 39/100\n",
      "6000/6000 [==============================] - 33s 5ms/step - loss: 0.0163 - accuracy: 0.9966\n",
      "Epoch 40/100\n",
      "6000/6000 [==============================] - 35s 6ms/step - loss: 0.0137 - accuracy: 0.9974\n",
      "Epoch 41/100\n",
      "6000/6000 [==============================] - 32s 5ms/step - loss: 0.0125 - accuracy: 0.9978\n",
      "Epoch 42/100\n",
      "6000/6000 [==============================] - 34s 6ms/step - loss: 0.0121 - accuracy: 0.9974\n",
      "Epoch 43/100\n",
      "6000/6000 [==============================] - 32s 5ms/step - loss: 0.0133 - accuracy: 0.9974\n",
      "Epoch 44/100\n",
      "6000/6000 [==============================] - 34s 6ms/step - loss: 0.0134 - accuracy: 0.9972\n",
      "Epoch 45/100\n",
      "6000/6000 [==============================] - 33s 6ms/step - loss: 0.0138 - accuracy: 0.9974\n",
      "Epoch 46/100\n",
      "6000/6000 [==============================] - 33s 6ms/step - loss: 0.0159 - accuracy: 0.9973\n",
      "Epoch 47/100\n",
      "6000/6000 [==============================] - 34s 6ms/step - loss: 0.0130 - accuracy: 0.9976\n",
      "Epoch 48/100\n",
      "6000/6000 [==============================] - 32s 5ms/step - loss: 0.0149 - accuracy: 0.9974\n",
      "Epoch 49/100\n",
      "6000/6000 [==============================] - 34s 6ms/step - loss: 0.0151 - accuracy: 0.9976\n",
      "Epoch 50/100\n",
      "6000/6000 [==============================] - 32s 5ms/step - loss: 0.0118 - accuracy: 0.9977\n",
      "Epoch 51/100\n",
      "6000/6000 [==============================] - 35s 6ms/step - loss: 0.0133 - accuracy: 0.9977\n",
      "Epoch 52/100\n",
      "6000/6000 [==============================] - 32s 5ms/step - loss: 0.0137 - accuracy: 0.9976\n",
      "Epoch 53/100\n",
      "6000/6000 [==============================] - 39s 6ms/step - loss: 0.0140 - accuracy: 0.9977\n",
      "Epoch 54/100\n",
      "6000/6000 [==============================] - 33s 6ms/step - loss: 0.0132 - accuracy: 0.9979\n",
      "Epoch 55/100\n",
      "6000/6000 [==============================] - 32s 5ms/step - loss: 0.0138 - accuracy: 0.9978\n",
      "Epoch 56/100\n",
      "6000/6000 [==============================] - 32s 5ms/step - loss: 0.0136 - accuracy: 0.9977\n",
      "Epoch 57/100\n",
      "6000/6000 [==============================] - 32s 5ms/step - loss: 0.0165 - accuracy: 0.9978\n",
      "Epoch 58/100\n",
      "6000/6000 [==============================] - 31s 5ms/step - loss: 0.0134 - accuracy: 0.9978\n",
      "Epoch 59/100\n",
      "6000/6000 [==============================] - 32s 5ms/step - loss: 0.0128 - accuracy: 0.9980\n",
      "Epoch 60/100\n",
      "6000/6000 [==============================] - 32s 5ms/step - loss: 0.0133 - accuracy: 0.9979\n",
      "Epoch 61/100\n",
      "6000/6000 [==============================] - 32s 5ms/step - loss: 0.0095 - accuracy: 0.9983\n",
      "Epoch 62/100\n",
      "6000/6000 [==============================] - 32s 5ms/step - loss: 0.0115 - accuracy: 0.9979\n",
      "Epoch 63/100\n",
      "6000/6000 [==============================] - 35s 6ms/step - loss: 0.0116 - accuracy: 0.9979\n",
      "Epoch 64/100\n",
      "6000/6000 [==============================] - 31s 5ms/step - loss: 0.0125 - accuracy: 0.9979\n",
      "Epoch 65/100\n",
      "6000/6000 [==============================] - 31s 5ms/step - loss: 0.0131 - accuracy: 0.9979\n",
      "Epoch 66/100\n",
      "6000/6000 [==============================] - 31s 5ms/step - loss: 0.0138 - accuracy: 0.9980\n",
      "Epoch 67/100\n",
      "6000/6000 [==============================] - 31s 5ms/step - loss: 0.0138 - accuracy: 0.9982\n",
      "Epoch 68/100\n",
      "6000/6000 [==============================] - 30s 5ms/step - loss: 0.0132 - accuracy: 0.9982\n",
      "Epoch 69/100\n",
      "6000/6000 [==============================] - 31s 5ms/step - loss: 0.0108 - accuracy: 0.9983\n",
      "Epoch 70/100\n",
      "6000/6000 [==============================] - 31s 5ms/step - loss: 0.0144 - accuracy: 0.9980\n",
      "Epoch 71/100\n",
      "6000/6000 [==============================] - 31s 5ms/step - loss: 0.0128 - accuracy: 0.9981\n",
      "Epoch 72/100\n",
      "6000/6000 [==============================] - 31s 5ms/step - loss: 0.0097 - accuracy: 0.9986\n",
      "Epoch 73/100\n",
      "6000/6000 [==============================] - 28s 5ms/step - loss: 0.0132 - accuracy: 0.9982\n",
      "Epoch 74/100\n",
      "6000/6000 [==============================] - 26s 4ms/step - loss: 0.0131 - accuracy: 0.9981\n",
      "Epoch 75/100\n",
      "6000/6000 [==============================] - 26s 4ms/step - loss: 0.0116 - accuracy: 0.9983\n",
      "Epoch 76/100\n",
      "6000/6000 [==============================] - 26s 4ms/step - loss: 0.0120 - accuracy: 0.9983\n",
      "Epoch 77/100\n",
      "6000/6000 [==============================] - 26s 4ms/step - loss: 0.0111 - accuracy: 0.9983\n",
      "Epoch 78/100\n",
      "6000/6000 [==============================] - 26s 4ms/step - loss: 0.0091 - accuracy: 0.9984\n",
      "Epoch 79/100\n"
     ]
    },
    {
     "name": "stdout",
     "output_type": "stream",
     "text": [
      "6000/6000 [==============================] - 26s 4ms/step - loss: 0.0162 - accuracy: 0.9980\n",
      "Epoch 80/100\n",
      "6000/6000 [==============================] - 26s 4ms/step - loss: 0.0120 - accuracy: 0.9984\n",
      "Epoch 81/100\n",
      "6000/6000 [==============================] - 28s 5ms/step - loss: 0.0121 - accuracy: 0.9985\n",
      "Epoch 82/100\n",
      "6000/6000 [==============================] - 30s 5ms/step - loss: 0.0135 - accuracy: 0.9983\n",
      "Epoch 83/100\n",
      "6000/6000 [==============================] - 30s 5ms/step - loss: 0.0106 - accuracy: 0.9985\n",
      "Epoch 84/100\n",
      "6000/6000 [==============================] - 30s 5ms/step - loss: 0.0114 - accuracy: 0.9986\n",
      "Epoch 85/100\n",
      "6000/6000 [==============================] - 30s 5ms/step - loss: 0.0142 - accuracy: 0.9984\n",
      "Epoch 86/100\n",
      "6000/6000 [==============================] - 31s 5ms/step - loss: 0.0094 - accuracy: 0.9989\n",
      "Epoch 87/100\n",
      "6000/6000 [==============================] - 30s 5ms/step - loss: 0.0169 - accuracy: 0.9984\n",
      "Epoch 88/100\n",
      "6000/6000 [==============================] - 31s 5ms/step - loss: 0.0120 - accuracy: 0.9984\n",
      "Epoch 89/100\n",
      "6000/6000 [==============================] - 31s 5ms/step - loss: 0.0098 - accuracy: 0.9986\n",
      "Epoch 90/100\n",
      "6000/6000 [==============================] - 31s 5ms/step - loss: 0.0118 - accuracy: 0.9985\n",
      "Epoch 91/100\n",
      "6000/6000 [==============================] - 29s 5ms/step - loss: 0.0187 - accuracy: 0.9982\n",
      "Epoch 92/100\n",
      "6000/6000 [==============================] - 27s 4ms/step - loss: 0.0089 - accuracy: 0.9984\n",
      "Epoch 93/100\n",
      "6000/6000 [==============================] - 26s 4ms/step - loss: 0.0085 - accuracy: 0.9988\n",
      "Epoch 94/100\n",
      "6000/6000 [==============================] - 26s 4ms/step - loss: 0.0115 - accuracy: 0.9983\n",
      "Epoch 95/100\n",
      "6000/6000 [==============================] - 26s 4ms/step - loss: 0.0105 - accuracy: 0.9987\n",
      "Epoch 96/100\n",
      "6000/6000 [==============================] - 28s 5ms/step - loss: 0.0126 - accuracy: 0.9985\n",
      "Epoch 97/100\n",
      "6000/6000 [==============================] - 26s 4ms/step - loss: 0.0081 - accuracy: 0.9990\n",
      "Epoch 98/100\n",
      "6000/6000 [==============================] - 26s 4ms/step - loss: 0.0109 - accuracy: 0.9986\n",
      "Epoch 99/100\n",
      "6000/6000 [==============================] - 26s 4ms/step - loss: 0.0107 - accuracy: 0.9989\n",
      "Epoch 100/100\n",
      "6000/6000 [==============================] - 26s 4ms/step - loss: 0.0138 - accuracy: 0.9985\n"
     ]
    },
    {
     "data": {
      "text/plain": [
       "<keras.src.callbacks.History at 0x15690353d30>"
      ]
     },
     "execution_count": 17,
     "metadata": {},
     "output_type": "execute_result"
    }
   ],
   "source": [
    "#fit the model\n",
    "model.fit(X_train, y_train, epochs=100, batch_size=10)"
   ]
  },
  {
   "cell_type": "markdown",
   "id": "0639ef85",
   "metadata": {},
   "source": [
    "## Evaluate the Model"
   ]
  },
  {
   "cell_type": "code",
   "execution_count": 18,
   "id": "02d06db4",
   "metadata": {},
   "outputs": [
    {
     "name": "stdout",
     "output_type": "stream",
     "text": [
      "313/313 [==============================] - 3s 4ms/step - loss: 0.6774 - accuracy: 0.9786\n"
     ]
    }
   ],
   "source": [
    "#evaluate the model\n",
    "loss, accuracy = model.evaluate(X_test, y_test)"
   ]
  },
  {
   "cell_type": "code",
   "execution_count": 19,
   "id": "487ade32",
   "metadata": {},
   "outputs": [
    {
     "name": "stdout",
     "output_type": "stream",
     "text": [
      "The loss is:  0.6773858666419983\n",
      "The accuracy is:  0.978600025177002\n"
     ]
    }
   ],
   "source": [
    "print('The loss is: ', loss)\n",
    "print('The accuracy is: ', accuracy)"
   ]
  },
  {
   "cell_type": "markdown",
   "id": "254b1a5d",
   "metadata": {},
   "source": [
    "## Save the model"
   ]
  },
  {
   "cell_type": "code",
   "execution_count": 20,
   "id": "c1144600",
   "metadata": {},
   "outputs": [
    {
     "name": "stdout",
     "output_type": "stream",
     "text": [
      "INFO:tensorflow:Assets written to: handwritten.model\\assets\n"
     ]
    },
    {
     "name": "stderr",
     "output_type": "stream",
     "text": [
      "INFO:tensorflow:Assets written to: handwritten.model\\assets\n"
     ]
    }
   ],
   "source": [
    "#save the model\n",
    "model.save('handwritten.model')"
   ]
  },
  {
   "cell_type": "markdown",
   "id": "8063f469",
   "metadata": {},
   "source": [
    "## Load the model"
   ]
  },
  {
   "cell_type": "code",
   "execution_count": 21,
   "id": "f876cd00",
   "metadata": {},
   "outputs": [],
   "source": [
    "model = tf.keras.models.load_model('handwritten.model')"
   ]
  },
  {
   "cell_type": "markdown",
   "id": "efe3ffdd",
   "metadata": {},
   "source": [
    "### Load and Predict hand written images"
   ]
  },
  {
   "cell_type": "code",
   "execution_count": 24,
   "id": "7631d663",
   "metadata": {
    "scrolled": false
   },
   "outputs": [
    {
     "name": "stdout",
     "output_type": "stream",
     "text": [
      "1/1 [==============================] - 6s 6s/step\n",
      "This image is probably a 3\n"
     ]
    },
    {
     "data": {
      "image/png": "[encoded data removed]",
      "text/plain": [
       "<Figure size 640x480 with 1 Axes>"
      ]
     },
     "metadata": {},
     "output_type": "display_data"
    },
    {
     "name": "stdout",
     "output_type": "stream",
     "text": [
      "1/1 [==============================] - 0s 408ms/step\n",
      "This image is probably a 1\n"
     ]
    },
    {
     "data": {
      "image/png": "[encoded data removed]",
      "text/plain": [
       "<Figure size 640x480 with 1 Axes>"
      ]
     },
     "metadata": {},
     "output_type": "display_data"
    },
    {
     "name": "stdout",
     "output_type": "stream",
     "text": [
      "1/1 [==============================] - 0s 130ms/step\n",
      "This image is probably a 2\n"
     ]
    },
    {
     "data": {
      "image/png": "[encoded data removed]",
      "text/plain": [
       "<Figure size 640x480 with 1 Axes>"
      ]
     },
     "metadata": {},
     "output_type": "display_data"
    },
    {
     "name": "stdout",
     "output_type": "stream",
     "text": [
      "1/1 [==============================] - 0s 497ms/step\n",
      "This image is probably a 3\n"
     ]
    },
    {
     "data": {
      "image/png": "[encoded data removed]",
      "text/plain": [
       "<Figure size 640x480 with 1 Axes>"
      ]
     },
     "metadata": {},
     "output_type": "display_data"
    },
    {
     "name": "stdout",
     "output_type": "stream",
     "text": [
      "1/1 [==============================] - 0s 68ms/step\n",
      "This image is probably a 9\n"
     ]
    },
    {
     "data": {
      "image/png": "[encoded data removed]",
      "text/plain": [
       "<Figure size 640x480 with 1 Axes>"
      ]
     },
     "metadata": {},
     "output_type": "display_data"
    },
    {
     "name": "stdout",
     "output_type": "stream",
     "text": [
      "1/1 [==============================] - 0s 121ms/step\n",
      "This image is probably a 5\n"
     ]
    },
    {
     "data": {
      "image/png": "[encoded data removed]",
      "text/plain": [
       "<Figure size 640x480 with 1 Axes>"
      ]
     },
     "metadata": {},
     "output_type": "display_data"
    },
    {
     "name": "stdout",
     "output_type": "stream",
     "text": [
      "1/1 [==============================] - 0s 139ms/step\n",
      "This image is probably a 3\n"
     ]
    },
    {
     "data": {
      "image/png": "[encoded data removed]",
      "text/plain": [
       "<Figure size 640x480 with 1 Axes>"
      ]
     },
     "metadata": {},
     "output_type": "display_data"
    },
    {
     "name": "stdout",
     "output_type": "stream",
     "text": [
      "1/1 [==============================] - 0s 134ms/step\n",
      "This image is probably a 7\n"
     ]
    },
    {
     "data": {
      "image/png": "[encoded data removed]",
      "text/plain": [
       "<Figure size 640x480 with 1 Axes>"
      ]
     },
     "metadata": {},
     "output_type": "display_data"
    },
    {
     "name": "stdout",
     "output_type": "stream",
     "text": [
      "1/1 [==============================] - 0s 59ms/step\n",
      "This image is probably a 8\n"
     ]
    },
    {
     "data": {
      "image/png": "[encoded data removed]",
      "text/plain": [
       "<Figure size 640x480 with 1 Axes>"
      ]
     },
     "metadata": {},
     "output_type": "display_data"
    },
    {
     "name": "stdout",
     "output_type": "stream",
     "text": [
      "1/1 [==============================] - 0s 55ms/step\n",
      "This image is probably a 9\n"
     ]
    },
    {
     "data": {
      "image/png": "[encoded data removed]",
      "text/plain": [
       "<Figure size 640x480 with 1 Axes>"
      ]
     },
     "metadata": {},
     "output_type": "display_data"
    }
   ],
   "source": [
    "#load, preprocess and predict the handwritten digits\n",
    "img_num = 0\n",
    "while os.path.isfile(f\"images/image{img_num}.png\"):\n",
    "    try:\n",
    "        img = cv2.imread(f\"images/image{img_num}.png\")[:,:,0]\n",
    "        img = np.invert(np.array([img]))\n",
    "        prediction = model.predict(img)\n",
    "        print(f\"This image is probably a {np.argmax(prediction)}\")\n",
    "        plt.imshow(img[0], cmap=plt.cm.binary)\n",
    "        plt.show()\n",
    "    except:\n",
    "        print(\"Error!\")\n",
    "    finally:\n",
    "        img_num +=1"
   ]
  },
  {
   "cell_type": "code",
   "execution_count": null,
   "id": "c6445535",
   "metadata": {},
   "outputs": [],
   "source": []
  }
 ],
 "metadata": {
  "kernelspec": {
   "display_name": "Python 3 (ipykernel)",
   "language": "python",
   "name": "python3"
  },
  "language_info": {
   "codemirror_mode": {
    "name": "ipython",
    "version": 3
   },
   "file_extension": ".py",
   "mimetype": "text/x-python",
   "name": "python",
   "nbconvert_exporter": "python",
   "pygments_lexer": "ipython3",
   "version": "3.10.9"
  },
  "varInspector": {
   "cols": {
    "lenName": 16,
    "lenType": 16,
    "lenVar": 40
   },
   "kernels_config": {
    "python": {
     "delete_cmd_postfix": "",
     "delete_cmd_prefix": "del ",
     "library": "var_list.py",
     "varRefreshCmd": "print(var_dic_list())"
    },
    "r": {
     "delete_cmd_postfix": ") ",
     "delete_cmd_prefix": "rm(",
     "library": "var_list.r",
     "varRefreshCmd": "cat(var_dic_list()) "
    }
   },
   "types_to_exclude": [
    "module",
    "function",
    "builtin_function_or_method",
    "instance",
    "_Feature"
   ],
   "window_display": false
  }
 },
 "nbformat": 4,
 "nbformat_minor": 5
}
